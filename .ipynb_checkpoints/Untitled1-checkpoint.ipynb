{
 "cells": [
  {
   "cell_type": "code",
   "execution_count": 1,
   "id": "d9f84f9f-d125-4891-8202-a6fc8d642901",
   "metadata": {},
   "outputs": [],
   "source": [
    "#data handling\n",
    "import pandas as pd \n",
    "import re\n",
    "import numpy as np  \n",
    "\n",
    "#visualization\n",
    "import matplotlib.pyplot as plt\n",
    "\n",
    "#preprocessing\n",
    "from sklearn.model_selection import train_test_split\n",
    "from sklearn.preprocessing import LabelEncoder\n",
    "from sklearn.preprocessing import label_binarize\n",
    "from sklearn.preprocessing import MinMaxScaler"
   ]
  },
  {
   "cell_type": "code",
   "execution_count": 2,
   "id": "ca66a84b-61f2-4235-8879-4d29978c9a75",
   "metadata": {},
   "outputs": [],
   "source": [
    "#load the data\n",
    "topTable = pd.read_csv(\"topTable.txt\", sep=\"\\t\", header=0)\n",
    "targets = pd.read_csv(\"targets.txt\", sep=\"\\t\", header=0)"
   ]
  },
  {
   "cell_type": "code",
   "execution_count": 3,
   "id": "cb0518cc-0218-4b2b-9e09-fc9e70296875",
   "metadata": {},
   "outputs": [],
   "source": [
    "# Replace hyphens with underscores in the 'Sample_ID' column of the sample_info dataframe\n",
    "targets['Sample_ID'] = targets['Sample_ID'].str.replace('-', '_')\n",
    "# Use regular expression to make the \"Sample_ID\" column be the same for both tables\n",
    "topTable.columns = topTable.columns.str.replace(r'^CPM_([^_]+_[^_]+_[^_]+)_.*$', r'\\1', regex=True) "
   ]
  },
  {
   "cell_type": "code",
   "execution_count": 4,
   "id": "4c858478-21ea-49cb-b8d4-4b30d22473cd",
   "metadata": {},
   "outputs": [
    {
     "name": "stdout",
     "output_type": "stream",
     "text": [
      "rows,columns\n"
     ]
    },
    {
     "data": {
      "text/plain": [
       "(40, 9)"
      ]
     },
     "execution_count": 4,
     "metadata": {},
     "output_type": "execute_result"
    }
   ],
   "source": [
    "print('rows,columns')\n",
    "targets.shape"
   ]
  },
  {
   "cell_type": "code",
   "execution_count": 5,
   "id": "b9ad1762-95ad-4c23-8e24-d17dd5d2fcc7",
   "metadata": {},
   "outputs": [
    {
     "name": "stdout",
     "output_type": "stream",
     "text": [
      "rows,columns\n"
     ]
    },
    {
     "data": {
      "text/plain": [
       "(21246, 86)"
      ]
     },
     "execution_count": 5,
     "metadata": {},
     "output_type": "execute_result"
    }
   ],
   "source": [
    "print('rows,columns')\n",
    "topTable.shape"
   ]
  },
  {
   "cell_type": "code",
   "execution_count": 6,
   "id": "17cca309-f453-4f60-8484-3fd905811cb3",
   "metadata": {},
   "outputs": [],
   "source": [
    "#print(targets.columns)\n",
    "#print(topTable.columns)"
   ]
  },
  {
   "cell_type": "code",
   "execution_count": 7,
   "id": "1920e0dc-7fce-40a4-b5ad-af23a70fdf3a",
   "metadata": {},
   "outputs": [
    {
     "name": "stdout",
     "output_type": "stream",
     "text": [
      "(40, 21247)\n"
     ]
    }
   ],
   "source": [
    "# Step 1: Set the 'Sample_ID' as index in `table1`\n",
    "# This ensures that we can access health status for each sample by its Sample ID.\n",
    "targets.set_index('Sample_ID', inplace=True)\n",
    "# Step 2: Identify relevant columns in table2 for CPM values\n",
    "cpm_columns = [col for col in topTable.columns if re.match(r'^[A-Z0-9]{2}_[0-9]{4}_[A-Z0-9]{2}$', col)]\n",
    "# Step 3: Filter topTable to keep only the gene IDs and relevant CPM columns\n",
    "# We assume 'Ensemble_gene_id' is the first column of table2\n",
    "topTable_filtered = topTable[['ensembl_gene_id'] + cpm_columns]\n",
    "# Step 4: Set 'Ensemble_gene_id' as index in table2_filtered\n",
    "topTable_filtered.set_index('ensembl_gene_id', inplace=True)\n",
    "\n",
    "# Step 5: Transpose table2_filtered so that each sample ID becomes a row, and each gene becomes a column\n",
    "table2_T = topTable_filtered.transpose()\n",
    "\n",
    "# Step 6: Join the health status from table1 with the transposed table2\n",
    "merged_data = table2_T.join(targets['HLAB27_status'])\n",
    "\n",
    "# Check the resulting merged data structure\n",
    "print(merged_data.shape)"
   ]
  },
  {
   "cell_type": "code",
   "execution_count": 8,
   "id": "3232003a-0716-458c-ab62-b87e2e713726",
   "metadata": {},
   "outputs": [
    {
     "name": "stdout",
     "output_type": "stream",
     "text": [
      "columns with missing values:0\n"
     ]
    }
   ],
   "source": [
    "#check for missing values\n",
    "datanul=merged_data.isnull().sum()\n",
    "g=[i for i in datanul if i>0]\n",
    "\n",
    "print('columns with missing values:%d'%len(g))"
   ]
  },
  {
   "cell_type": "code",
   "execution_count": 9,
   "id": "6d9255b9-fbaf-43b7-9111-e684542d058f",
   "metadata": {},
   "outputs": [
    {
     "name": "stdout",
     "output_type": "stream",
     "text": [
      "Do we have NA values?\n",
      "False\n",
      "In case we would have NA values, show these rows\n"
     ]
    },
    {
     "data": {
      "text/html": [
       "<div>\n",
       "<style scoped>\n",
       "    .dataframe tbody tr th:only-of-type {\n",
       "        vertical-align: middle;\n",
       "    }\n",
       "\n",
       "    .dataframe tbody tr th {\n",
       "        vertical-align: top;\n",
       "    }\n",
       "\n",
       "    .dataframe thead th {\n",
       "        text-align: right;\n",
       "    }\n",
       "</style>\n",
       "<table border=\"1\" class=\"dataframe\">\n",
       "  <thead>\n",
       "    <tr style=\"text-align: right;\">\n",
       "      <th></th>\n",
       "      <th>ENSG00000000003</th>\n",
       "      <th>ENSG00000000419</th>\n",
       "      <th>ENSG00000000457</th>\n",
       "      <th>ENSG00000000460</th>\n",
       "      <th>ENSG00000000938</th>\n",
       "      <th>ENSG00000000971</th>\n",
       "      <th>ENSG00000001036</th>\n",
       "      <th>ENSG00000001084</th>\n",
       "      <th>ENSG00000001167</th>\n",
       "      <th>ENSG00000001460</th>\n",
       "      <th>...</th>\n",
       "      <th>ENSG00000285923</th>\n",
       "      <th>ENSG00000285933</th>\n",
       "      <th>ENSG00000285938</th>\n",
       "      <th>ENSG00000285943</th>\n",
       "      <th>ENSG00000285966</th>\n",
       "      <th>ENSG00000285967</th>\n",
       "      <th>ENSG00000285976</th>\n",
       "      <th>ENSG00000285984</th>\n",
       "      <th>ENSG00000285994</th>\n",
       "      <th>HLAB27_status</th>\n",
       "    </tr>\n",
       "  </thead>\n",
       "  <tbody>\n",
       "  </tbody>\n",
       "</table>\n",
       "<p>0 rows × 21247 columns</p>\n",
       "</div>"
      ],
      "text/plain": [
       "Empty DataFrame\n",
       "Columns: [ENSG00000000003, ENSG00000000419, ENSG00000000457, ENSG00000000460, ENSG00000000938, ENSG00000000971, ENSG00000001036, ENSG00000001084, ENSG00000001167, ENSG00000001460, ENSG00000001461, ENSG00000001497, ENSG00000001561, ENSG00000001629, ENSG00000001630, ENSG00000001631, ENSG00000002016, ENSG00000002330, ENSG00000002549, ENSG00000002586, ENSG00000002587, ENSG00000002726, ENSG00000002745, ENSG00000002822, ENSG00000002834, ENSG00000002919, ENSG00000002933, ENSG00000003056, ENSG00000003096, ENSG00000003147, ENSG00000003249, ENSG00000003393, ENSG00000003400, ENSG00000003402, ENSG00000003436, ENSG00000003509, ENSG00000003756, ENSG00000004059, ENSG00000004139, ENSG00000004142, ENSG00000004399, ENSG00000004455, ENSG00000004468, ENSG00000004478, ENSG00000004487, ENSG00000004534, ENSG00000004660, ENSG00000004700, ENSG00000004766, ENSG00000004777, ENSG00000004779, ENSG00000004799, ENSG00000004809, ENSG00000004838, ENSG00000004864, ENSG00000004866, ENSG00000004897, ENSG00000004939, ENSG00000004961, ENSG00000004975, ENSG00000005007, ENSG00000005020, ENSG00000005022, ENSG00000005059, ENSG00000005075, ENSG00000005100, ENSG00000005102, ENSG00000005108, ENSG00000005156, ENSG00000005175, ENSG00000005187, ENSG00000005189, ENSG00000005194, ENSG00000005206, ENSG00000005238, ENSG00000005243, ENSG00000005249, ENSG00000005302, ENSG00000005339, ENSG00000005379, ENSG00000005381, ENSG00000005436, ENSG00000005448, ENSG00000005469, ENSG00000005471, ENSG00000005483, ENSG00000005486, ENSG00000005513, ENSG00000005700, ENSG00000005801, ENSG00000005810, ENSG00000005812, ENSG00000005844, ENSG00000005882, ENSG00000005884, ENSG00000005889, ENSG00000005893, ENSG00000005961, ENSG00000006007, ENSG00000006015, ...]\n",
       "Index: []\n",
       "\n",
       "[0 rows x 21247 columns]"
      ]
     },
     "metadata": {},
     "output_type": "display_data"
    },
    {
     "name": "stdout",
     "output_type": "stream",
     "text": [
      "Empty rows if no NA values\n",
      "===============================================================================\n",
      "If we would have NA values, drop the rows containing them\n"
     ]
    }
   ],
   "source": [
    "print(\"Do we have NA values?\")\n",
    "print(np.any(merged_data.isna()))\n",
    "\n",
    "print(\"In case we would have NA values, show these rows\")\n",
    "# Display the na values\n",
    "display(merged_data[np.any(merged_data.isna(), axis=1)])\n",
    "print(\"Empty rows if no NA values\")\n",
    "\n",
    "print(\"=\"*79)\n",
    "\n",
    "print(\"If we would have NA values, drop the rows containing them\")\n",
    "merged_data.dropna(inplace=True)"
   ]
  },
  {
   "cell_type": "code",
   "execution_count": 10,
   "id": "1ea01102-eded-488f-94df-5dee056acb33",
   "metadata": {},
   "outputs": [
    {
     "data": {
      "text/plain": [
       "<Axes: >"
      ]
     },
     "execution_count": 10,
     "metadata": {},
     "output_type": "execute_result"
    },
    {
     "data": {
      "image/png": "[encoded data removed]",
      "text/plain": [
       "<Figure size 400x400 with 1 Axes>"
      ]
     },
     "metadata": {},
     "output_type": "display_data"
    }
   ],
   "source": [
    "#plot a bar chat to display the class distribution\n",
    "merged_data['HLAB27_status'].value_counts().plot.bar(figsize=(4,4))"
   ]
  },
  {
   "cell_type": "code",
   "execution_count": 11,
   "id": "5f394b89-86d9-4db4-9eb5-8d0008121d02",
   "metadata": {},
   "outputs": [],
   "source": [
    "# Look at the correlations between multiple features by displaying a correlation plot (in heatmap form)\n",
    "#f, ax = plt.subplots(figsize=(20, 8))\n",
    "#corr= merged_data.corr()\n",
    "#sns.heatmap(corr,\n",
    "#            cmap=sns.diverging_palette(220, 10, as_cmap=True),\n",
    "#            mask=np.zeros_like(corr, dtype=bool),\n",
    "#            square=True,\n",
    "#            annot=True,\n",
    "#            ax=ax)"
   ]
  },
  {
   "cell_type": "code",
   "execution_count": 12,
   "id": "dd897031-7224-445a-a795-e320f380e51b",
   "metadata": {},
   "outputs": [],
   "source": [
    "X=merged_data.iloc[:,0:-1]\n",
    "y=merged_data.iloc[:,-1]"
   ]
  },
  {
   "cell_type": "code",
   "execution_count": 13,
   "id": "94a2ab31-0bbe-4cba-8bd7-f48440efeac8",
   "metadata": {},
   "outputs": [
    {
     "data": {
      "text/plain": [
       "(40, 21246)"
      ]
     },
     "execution_count": 13,
     "metadata": {},
     "output_type": "execute_result"
    }
   ],
   "source": [
    "X.shape"
   ]
  },
  {
   "cell_type": "code",
   "execution_count": 14,
   "id": "50e21d88-64b9-4460-abfc-dc165b0611aa",
   "metadata": {},
   "outputs": [
    {
     "data": {
      "text/plain": [
       "(40,)"
      ]
     },
     "execution_count": 14,
     "metadata": {},
     "output_type": "execute_result"
    }
   ],
   "source": [
    "y.shape"
   ]
  },
  {
   "cell_type": "code",
   "execution_count": 15,
   "id": "b0c19d69-33a1-43f2-b243-b4af2406399e",
   "metadata": {},
   "outputs": [],
   "source": [
    "### Making y variable from categorical into numeric (if  needed)\n",
    "#### Hardcode method\n",
    "#replace Negative and Positive with 0 and 1\n",
    "#merged_data.replace({'HLAB27_status': {'Positive':1,'Negative':0}}, inplace=True)\n",
    "\n",
    "#### Automatic method\n",
    "#let's encode target labels (y) with values between 0 and n_classes-1.\n",
    "#encoding will be done using the LabelEncoder\n",
    "label_encoder=LabelEncoder()\n",
    "label_encoder.fit(y)\n",
    "y_encoded=label_encoder.transform(y)\n",
    "labels=label_encoder.classes_\n",
    "classes=np.unique(y_encoded)"
   ]
  },
  {
   "cell_type": "code",
   "execution_count": 16,
   "id": "303dc881-a58b-4642-92a7-386a2e4d17a7",
   "metadata": {},
   "outputs": [
    {
     "data": {
      "text/plain": [
       "array(['Negative', 'Positive'], dtype=object)"
      ]
     },
     "execution_count": 16,
     "metadata": {},
     "output_type": "execute_result"
    }
   ],
   "source": [
    "labels"
   ]
  },
  {
   "cell_type": "code",
   "execution_count": 17,
   "id": "2b45000a-cf33-4c52-83b7-f849a0cee9e6",
   "metadata": {},
   "outputs": [
    {
     "data": {
      "text/plain": [
       "array([0, 1])"
      ]
     },
     "execution_count": 17,
     "metadata": {},
     "output_type": "execute_result"
    }
   ],
   "source": [
    "classes"
   ]
  }
 ],
 "metadata": {
  "kernelspec": {
   "display_name": "Python 3 (ipykernel)",
   "language": "python",
   "name": "python3"
  },
  "language_info": {
   "codemirror_mode": {
    "name": "ipython",
    "version": 3
   },
   "file_extension": ".py",
   "mimetype": "text/x-python",
   "name": "python",
   "nbconvert_exporter": "python",
   "pygments_lexer": "ipython3",
   "version": "3.11.9"
  }
 },
 "nbformat": 4,
 "nbformat_minor": 5
}
