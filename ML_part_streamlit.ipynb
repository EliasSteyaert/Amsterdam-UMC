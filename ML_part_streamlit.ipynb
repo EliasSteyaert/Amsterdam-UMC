{
 "cells": [
  {
   "cell_type": "code",
   "execution_count": 40,
   "id": "d9f84f9f-d125-4891-8202-a6fc8d642901",
   "metadata": {},
   "outputs": [],
   "source": [
    "#data handling\n",
    "import pandas as pd \n",
    "import re\n",
    "import numpy as np  \n",
    "\n",
    "#visualization\n",
    "import matplotlib.pyplot as plt\n",
    "\n",
    "#preprocessing\n",
    "from sklearn.model_selection import train_test_split\n",
    "from sklearn.preprocessing import LabelEncoder\n",
    "from sklearn.preprocessing import label_binarize\n",
    "from sklearn.preprocessing import MinMaxScaler\n",
    "from sklearn.decomposition import PCA\n",
    "\n",
    "from sklearn.feature_selection import mutual_info_classif\n",
    "import imblearn\n",
    "from imblearn.over_sampling import SMOTE\n",
    "from collections import Counter\n",
    "\n",
    "#classification\n",
    "from sklearn.metrics import confusion_matrix,classification_report,accuracy_score,recall_score,precision_score,f1_score \n",
    "from sklearn.metrics import roc_curve,auc\n",
    "from sklearn.linear_model import LogisticRegression\n",
    "from sklearn.cluster import KMeans\n",
    "from sklearn.decomposition import PCA\n",
    "from sklearn.multiclass import OneVsRestClassifier\n",
    "from sklearn.ensemble import RandomForestClassifier\n",
    "\n",
    "# performance metrics\n",
    "from sklearn.metrics import balanced_accuracy_score,f1_score,precision_score, recall_score\n",
    "from sklearn.metrics import classification_report\n",
    "from sklearn.metrics import confusion_matrix\n",
    "from sklearn.metrics import ConfusionMatrixDisplay\n",
    "from sklearn.metrics import roc_curve,auc\n",
    "from sklearn.metrics import roc_auc_score\n"
   ]
  },
  {
   "cell_type": "markdown",
   "id": "8dc36bee-786b-4d27-834f-14ac3860c19a",
   "metadata": {},
   "source": [
    "## Data Reading, Cleaning and Merging"
   ]
  },
  {
   "cell_type": "code",
   "execution_count": 43,
   "id": "4c858478-21ea-49cb-b8d4-4b30d22473cd",
   "metadata": {},
   "outputs": [
    {
     "name": "stdout",
     "output_type": "stream",
     "text": [
      "rows,columns\n"
     ]
    },
    {
     "data": {
      "text/plain": [
       "(40, 9)"
      ]
     },
     "execution_count": 43,
     "metadata": {},
     "output_type": "execute_result"
    }
   ],
   "source": [
    "print('rows,columns')\n",
    "data.shape"
   ]
  },
  {
   "cell_type": "code",
   "execution_count": 45,
   "id": "17cca309-f453-4f60-8484-3fd905811cb3",
   "metadata": {},
   "outputs": [],
   "source": [
    "#print(targets.columns)\n",
    "#print(topTable.columns)"
   ]
  },
  {
   "cell_type": "code",
   "execution_count": 47,
   "id": "3232003a-0716-458c-ab62-b87e2e713726",
   "metadata": {},
   "outputs": [
    {
     "name": "stdout",
     "output_type": "stream",
     "text": [
      "columns with missing values:0\n"
     ]
    }
   ],
   "source": [
    "#check for missing values\n",
    "datanul=data.isnull().sum()\n",
    "g=[i for i in datanul if i>0]\n",
    "\n",
    "print('columns with missing values:%d'%len(g))"
   ]
  },
  {
   "cell_type": "code",
   "execution_count": 48,
   "id": "6d9255b9-fbaf-43b7-9111-e684542d058f",
   "metadata": {},
   "outputs": [
    {
     "name": "stdout",
     "output_type": "stream",
     "text": [
      "Do we have NA values?\n",
      "False\n",
      "In case we would have NA values, show these rows\n"
     ]
    },
    {
     "data": {
      "text/html": [
       "<div>\n",
       "<style scoped>\n",
       "    .dataframe tbody tr th:only-of-type {\n",
       "        vertical-align: middle;\n",
       "    }\n",
       "\n",
       "    .dataframe tbody tr th {\n",
       "        vertical-align: top;\n",
       "    }\n",
       "\n",
       "    .dataframe thead th {\n",
       "        text-align: right;\n",
       "    }\n",
       "</style>\n",
       "<table border=\"1\" class=\"dataframe\">\n",
       "  <thead>\n",
       "    <tr style=\"text-align: right;\">\n",
       "      <th></th>\n",
       "      <th>ENSG00000000003</th>\n",
       "      <th>ENSG00000000419</th>\n",
       "      <th>ENSG00000000457</th>\n",
       "      <th>ENSG00000000460</th>\n",
       "      <th>ENSG00000000938</th>\n",
       "      <th>ENSG00000000971</th>\n",
       "      <th>ENSG00000001036</th>\n",
       "      <th>ENSG00000001084</th>\n",
       "      <th>ENSG00000001167</th>\n",
       "      <th>ENSG00000001460</th>\n",
       "      <th>...</th>\n",
       "      <th>ENSG00000285923</th>\n",
       "      <th>ENSG00000285933</th>\n",
       "      <th>ENSG00000285938</th>\n",
       "      <th>ENSG00000285943</th>\n",
       "      <th>ENSG00000285966</th>\n",
       "      <th>ENSG00000285967</th>\n",
       "      <th>ENSG00000285976</th>\n",
       "      <th>ENSG00000285984</th>\n",
       "      <th>ENSG00000285994</th>\n",
       "      <th>HLAB27_status</th>\n",
       "    </tr>\n",
       "  </thead>\n",
       "  <tbody>\n",
       "  </tbody>\n",
       "</table>\n",
       "<p>0 rows × 21247 columns</p>\n",
       "</div>"
      ],
      "text/plain": [
       "Empty DataFrame\n",
       "Columns: [ENSG00000000003, ENSG00000000419, ENSG00000000457, ENSG00000000460, ENSG00000000938, ENSG00000000971, ENSG00000001036, ENSG00000001084, ENSG00000001167, ENSG00000001460, ENSG00000001461, ENSG00000001497, ENSG00000001561, ENSG00000001629, ENSG00000001630, ENSG00000001631, ENSG00000002016, ENSG00000002330, ENSG00000002549, ENSG00000002586, ENSG00000002587, ENSG00000002726, ENSG00000002745, ENSG00000002822, ENSG00000002834, ENSG00000002919, ENSG00000002933, ENSG00000003056, ENSG00000003096, ENSG00000003147, ENSG00000003249, ENSG00000003393, ENSG00000003400, ENSG00000003402, ENSG00000003436, ENSG00000003509, ENSG00000003756, ENSG00000004059, ENSG00000004139, ENSG00000004142, ENSG00000004399, ENSG00000004455, ENSG00000004468, ENSG00000004478, ENSG00000004487, ENSG00000004534, ENSG00000004660, ENSG00000004700, ENSG00000004766, ENSG00000004777, ENSG00000004779, ENSG00000004799, ENSG00000004809, ENSG00000004838, ENSG00000004864, ENSG00000004866, ENSG00000004897, ENSG00000004939, ENSG00000004961, ENSG00000004975, ENSG00000005007, ENSG00000005020, ENSG00000005022, ENSG00000005059, ENSG00000005075, ENSG00000005100, ENSG00000005102, ENSG00000005108, ENSG00000005156, ENSG00000005175, ENSG00000005187, ENSG00000005189, ENSG00000005194, ENSG00000005206, ENSG00000005238, ENSG00000005243, ENSG00000005249, ENSG00000005302, ENSG00000005339, ENSG00000005379, ENSG00000005381, ENSG00000005436, ENSG00000005448, ENSG00000005469, ENSG00000005471, ENSG00000005483, ENSG00000005486, ENSG00000005513, ENSG00000005700, ENSG00000005801, ENSG00000005810, ENSG00000005812, ENSG00000005844, ENSG00000005882, ENSG00000005884, ENSG00000005889, ENSG00000005893, ENSG00000005961, ENSG00000006007, ENSG00000006015, ...]\n",
       "Index: []\n",
       "\n",
       "[0 rows x 21247 columns]"
      ]
     },
     "metadata": {},
     "output_type": "display_data"
    },
    {
     "name": "stdout",
     "output_type": "stream",
     "text": [
      "Empty rows if no NA values\n",
      "===============================================================================\n",
      "If we would have NA values, drop the rows containing them\n"
     ]
    }
   ],
   "source": [
    "print(\"Do we have NA values?\")\n",
    "print(np.any(datadata.isna()))\n",
    "\n",
    "print(\"In case we would have NA values, show these rows\")\n",
    "# Display the na values\n",
    "display(data[np.any(data.isna(), axis=1)])\n",
    "print(\"Empty rows if no NA values\")\n",
    "\n",
    "print(\"=\"*79)\n",
    "\n",
    "print(\"If we would have NA values, drop the rows containing them\")\n",
    "data.dropna(inplace=True)"
   ]
  },
  {
   "cell_type": "code",
   "execution_count": 49,
   "id": "1ea01102-eded-488f-94df-5dee056acb33",
   "metadata": {},
   "outputs": [
    {
     "data": {
      "text/plain": [
       "<Axes: >"
      ]
     },
     "execution_count": 49,
     "metadata": {},
     "output_type": "execute_result"
    },
    {
     "data": {
      "image/png": "[encoded data removed]",
      "text/plain": [
       "<Figure size 400x400 with 1 Axes>"
      ]
     },
     "metadata": {},
     "output_type": "display_data"
    }
   ],
   "source": [
    "#plot a bar chat to display the class distribution\n",
    "data['HLAB27_status'].value_counts().plot.bar(figsize=(4,4))"
   ]
  },
  {
   "cell_type": "code",
   "execution_count": 50,
   "id": "5f394b89-86d9-4db4-9eb5-8d0008121d02",
   "metadata": {},
   "outputs": [],
   "source": [
    "# Look at the correlations between multiple features by displaying a correlation plot (in heatmap form)\n",
    "#f, ax = plt.subplots(figsize=(20, 8))\n",
    "#corr= merged_data.corr()\n",
    "#sns.heatmap(corr,\n",
    "#            cmap=sns.diverging_palette(220, 10, as_cmap=True),\n",
    "#            mask=np.zeros_like(corr, dtype=bool),\n",
    "#            square=True,\n",
    "#            annot=True,\n",
    "#            ax=ax)"
   ]
  }
 ],
 "metadata": {
  "kernelspec": {
   "display_name": "Python 3 (ipykernel)",
   "language": "python",
   "name": "python3"
  },
  "language_info": {
   "codemirror_mode": {
    "name": "ipython",
    "version": 3
   },
   "file_extension": ".py",
   "mimetype": "text/x-python",
   "name": "python",
   "nbconvert_exporter": "python",
   "pygments_lexer": "ipython3",
   "version": "3.11.9"
  }
 },
 "nbformat": 4,
 "nbformat_minor": 5
}
